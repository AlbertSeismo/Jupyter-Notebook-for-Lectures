{
 "cells": [
  {
   "cell_type": "markdown",
   "metadata": {},
   "source": [
    "# Love waves\n",
    "\n",
    "<p style=\"width:65%;float:center;padding-left:50px\">\n",
    "<img src=https://cdn.britannica.com/700x450/05/20705-049-8F372CC3.jpg>\n",
    "<span style=\"font-size:smaller\">\n",
    "</span>\n",
    "</p>\n"
   ]
  },
  {
   "cell_type": "markdown",
   "metadata": {},
   "source": [
    "## Dispersion relation"
   ]
  },
  {
   "cell_type": "markdown",
   "metadata": {},
   "source": [
    "The following equation relates the phase velocity c for *fundamental mode* Love waves with the angular frequency $\\omega$ (or period T). for a low velocity layer with $\\beta_1 = 3.5 km/s$ and depth $h = 40km$ over a half space with $\\beta_2 = 4.5 km/s$\n",
    "\n",
    "$\\tan(h\\omega\\sqrt{1/\\beta^2_1-1/c^2}) = \\frac{\\mu_2 \\sqrt{1/c^2-1/\\beta^2_2}}{\\mu_1 \\sqrt{1/\\beta^2_1-1/c^2}}$\n",
    "\n",
    "The densities in the two layers are $\\rho_1 = 2700 kg/m^3$, $\\rho_2 = 3300 kg/m^3$.\n",
    "\n",
    "\n"
   ]
  },
  {
   "cell_type": "markdown",
   "metadata": {},
   "source": [
    "##### Exercise 1: Solve the equation for $\\omega$ and turn it into Python code. Then the iteration goes through possible values of c to determine $\\omega$. The values are converted to period T and plotted as  phase velocity c as a function T."
   ]
  },
  {
   "cell_type": "code",
   "execution_count": null,
   "metadata": {
    "code_folding": [
     0
    ]
   },
   "outputs": [],
   "source": [
    "# Some initialization\n",
    "import numpy as np\n",
    "import matplotlib.pyplot as plt\n",
    "from IPython.display import clear_output\n",
    "\n",
    "# Show the plots in the Notebook.\n",
    "plt.switch_backend(\"nbagg\")"
   ]
  },
  {
   "cell_type": "code",
   "execution_count": null,
   "metadata": {},
   "outputs": [],
   "source": [
    "# Initialize\n",
    "\n",
    "# S velocities and density\n",
    "beta1=3500.\n",
    "beta2=4500.\n",
    "h=40000.\n",
    "rho1=2700.\n",
    "rho2=3300.\n",
    "\n",
    "# Calculate shear modulus\n",
    "mu1=rho1*beta1**2\n",
    "mu2=rho2*beta2**2\n",
    "\n",
    "# index for loop\n",
    "ii=-1\n",
    "\n",
    "# Loop through possible phase velocities \n",
    "\n",
    "cc = np.zeros(200)\n",
    "T= np.zeros(200)\n",
    "\n",
    "for c in range(3501,4500,10):\n",
    "    ii=ii+1\n",
    "    # Save velocities in vector\n",
    "    cc[ii]=c\n",
    "    \n",
    "    # Calculate omega using the above dispersion relation, \n",
    "    w=\n",
    "    \n",
    "    # Convert to period and save in vector\n",
    "    T[ii]=2*np.pi/w\n",
    "\n",
    "\n",
    "# Plotting\n",
    "plt.plot(T[:ii],cc[:ii])\n",
    "plt.xlabel('Period (s)')\n",
    "plt.ylabel('Phase velocity (m/s)')\n",
    "plt.title(' Love wave dispersion ')\n",
    "plt.show()\n",
    "\n"
   ]
  },
  {
   "cell_type": "markdown",
   "metadata": {
    "collapsed": true
   },
   "source": [
    "#### Exercise 2: Assume a propagation distance of 10000km. Estimate the arrival time difference of Love waves propagating at T = [10,20,50,100] seconds using the results from the previous exercise.  Use the results contained in the T and cc vectors. Trick: Find the index of the T vector that contains the desired value, then extract the velocity with the same index in cc. The function np.argmin and np. absolute may help but there are many ways doing this! "
   ]
  },
  {
   "cell_type": "code",
   "execution_count": null,
   "metadata": {},
   "outputs": [],
   "source": [
    "# at T = 10\n",
    "c10 = \n",
    "print(' Travel time for T = 10:  t = ',10000000/c10,' s')\n",
    "\n",
    "# at T = 25\n",
    "c25 = \n",
    "print(' Travel time for T = 25:  t = ',10000000/c25,' s')\n",
    "\n",
    "# at T = 50\n",
    "c50 = \n",
    "print(' Travel time for T = 50:  t = ',10000000/c50,' s')\n",
    "\n",
    "# at T = 100\n",
    "c100 = \n",
    "print(' Travel time for T = 100:  t = ',10000000/c100,' s')"
   ]
  }
 ],
 "metadata": {
  "kernelspec": {
   "display_name": "Python 3",
   "language": "python",
   "name": "python3"
  },
  "language_info": {
   "codemirror_mode": {
    "name": "ipython",
    "version": 3
   },
   "file_extension": ".py",
   "mimetype": "text/x-python",
   "name": "python",
   "nbconvert_exporter": "python",
   "pygments_lexer": "ipython3",
   "version": "3.8.5"
  }
 },
 "nbformat": 4,
 "nbformat_minor": 1
}
