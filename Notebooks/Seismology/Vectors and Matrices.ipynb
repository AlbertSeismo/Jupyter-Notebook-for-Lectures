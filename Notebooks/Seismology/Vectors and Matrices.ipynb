{
 "cells": [
  {
   "cell_type": "markdown",
   "metadata": {},
   "source": [
    "# Vectors and Matrices\n",
    "\n",
    "#### Goal of this notebook\n",
    "\n",
    "* How to initialize vectors and matrices in Python\n",
    "* How to visualize vectors and matrices\n",
    "* How to perform matrix-vector operations\n",
    "\n",
    "The examples are in 2D\n"
   ]
  },
  {
   "cell_type": "code",
   "execution_count": null,
   "metadata": {
    "code_folding": []
   },
   "outputs": [],
   "source": [
    "# Imports\n",
    "import matplotlib.pyplot as plt\n",
    "import numpy as np\n",
    "from numpy import linalg as la"
   ]
  },
  {
   "cell_type": "markdown",
   "metadata": {},
   "source": [
    "#### Matrix and Vector initialization"
   ]
  },
  {
   "cell_type": "code",
   "execution_count": null,
   "metadata": {},
   "outputs": [],
   "source": [
    "# Initialize vector in 2D\n",
    "x = np.zeros(2)    # this sets the size and intializes with zero elements\n",
    "\n",
    "# Add (arbitrary) values\n",
    "x[0] = 1.\n",
    "x[1] = .5\n",
    "\n",
    "print(\"vector: x = \",x)\n",
    "\n",
    "# initialize matrix (or tensor) in 2D \n",
    "e = np.zeros((2,2))    # this sets the size and intializes with zero elements\n",
    "\n",
    "# Add (arbitrary) values\n",
    "e[0,0] = 1.\n",
    "e[1,1] = 2.\n",
    "e[0,1] = .4\n",
    "e[1,0] = -.2\n",
    "\n",
    "print(\"tensor: e = \",e)\n",
    "\n",
    "# Print transpose\n",
    "\n",
    "print(\"tensor transpose: e^T = \",np.transpose(e))"
   ]
  },
  {
   "cell_type": "markdown",
   "metadata": {},
   "source": [
    "#### Visualize Vectors and matrices"
   ]
  },
  {
   "cell_type": "code",
   "execution_count": null,
   "metadata": {},
   "outputs": [],
   "source": [
    "# Visualization of vectors with \"quiver\"\n",
    "# The origin of the vectors is automatically set to [0,0]\n",
    "plt.quiver(x[0],x[1],color='r',angles='xy', scale_units='xy', scale=1)\n",
    "plt.quiver(x[0],-x[1],color='g',angles='xy', scale_units='xy', scale=1)\n",
    "plt.axis('square')\n",
    "plt.xlim(-2,2)\n",
    "plt.ylim(-2,2)\n",
    "plt.grid()\n",
    "plt.show()\n",
    "\n"
   ]
  },
  {
   "cell_type": "code",
   "execution_count": null,
   "metadata": {},
   "outputs": [],
   "source": [
    "# Vizualize a tensor using imshow\n",
    "plt.imshow(e)\n",
    "plt.colorbar()\n",
    "plt.show()\n",
    "\n"
   ]
  },
  {
   "cell_type": "markdown",
   "metadata": {},
   "source": [
    "#### Matrix vector operations"
   ]
  },
  {
   "cell_type": "code",
   "execution_count": null,
   "metadata": {},
   "outputs": [],
   "source": [
    "# Matrix operating on vector\n",
    "\n",
    "# Let us use random vectors and matrices\n",
    "x = np.random.rand(2)   # generates values between [0,1]\n",
    "A = np.random.rand(2,2) # random 2 x 2 matrix\n",
    "\n",
    "# Let us do matrix-vector multiply (the @ denots matrix-vector operation)\n",
    "y = A@x       \n",
    "\n",
    "# And visualize the effect of A on x\n",
    "\n",
    "plt.quiver(x[0],x[1],color='r',angles='xy', scale_units='xy', scale=1)\n",
    "plt.quiver(y[0],y[1],color='g',angles='xy', scale_units='xy', scale=1)\n",
    "plt.legend(('Before','After'))\n",
    "plt.axis('square')\n",
    "plt.xlim(-2,2)\n",
    "plt.ylim(-2,2)\n",
    "plt.title(' Note the length and direction is changed' )\n",
    "plt.grid()\n",
    "plt.show()\n"
   ]
  },
  {
   "cell_type": "markdown",
   "metadata": {},
   "source": [
    "#### Remember: \n",
    "\n",
    "An square matrix A can be separated into a symmetric and antisymmetric part\n",
    "    \n",
    "$\n",
    "A = \\frac{1}{2} \\left( A + A^T \\right) + \\frac{1}{2} \\left( A - A^T \\right)\n",
    "$\n",
    "\n",
    "where (to use \"elasticity\" terms)\n",
    "\n",
    "$\n",
    "\\epsilon =\\frac{1}{2} \\left( A + A^T \\right) \n",
    "$\n",
    "\n",
    "is symmetric, and\n",
    "\n",
    "$\n",
    "r = \\frac{1}{2} \\left( A - A^T \\right) \n",
    "$\n",
    "\n",
    "is antisymmetric. Let us do this with python and observe the actions of $\\epsilon$ and $r$ on a vector.  \n",
    "Note that (normalized) antisymmetric matrices **do not change the length of a vector but just rotate it!**\n"
   ]
  },
  {
   "cell_type": "code",
   "execution_count": null,
   "metadata": {},
   "outputs": [],
   "source": [
    "# Let us do matrix-vector multiply \n",
    "\n",
    "# Rerun this cell many times to see effects of different random matrices and vectors\n",
    "# Fix the x vector to [1,0] or [0,1] or [1,1] to single out the effect of A\n",
    "\n",
    "\n",
    "# Let us use random vectors and matrices\n",
    "# x = [0,1]  # or [0,1] or [1,1]\n",
    "x = np.random.rand(2)   # generates values between [0,1]\n",
    "A = np.random.rand(2,2) # random 2 x 2 matrix\n",
    "\n",
    "# Initialize epsilon and r \n",
    "e = 0.5 * (A + A.T)\n",
    "r = 0.5 * (A - A.T)\n",
    "\n",
    "# test it\n",
    "print(e+r)\n",
    "print(' Should be the same as ')\n",
    "print(A)\n",
    "print('q.e.d.')\n",
    "print('Symmetric')\n",
    "print(e)\n",
    "print('Anti-symmetric')\n",
    "print(r)\n",
    "\n",
    "\n",
    "# Action of symmetric matrix\n",
    "y1 = e@x       \n",
    "# Action of symmetric matrix\n",
    "y2 = r@x\n",
    "\n",
    "# And visualize the effect of A on x\n",
    "\n",
    "plt.subplot(121)\n",
    "plt.quiver(x[0],x[1],color='r',angles='xy', scale_units='xy', scale=1)\n",
    "plt.quiver(y1[0],y1[1],color='g',angles='xy', scale_units='xy', scale=1)\n",
    "plt.legend(('Before','After'))\n",
    "plt.axis('square')\n",
    "plt.xlim(-1,1)\n",
    "plt.ylim(-1,1)\n",
    "plt.title(' Symmetric ' )\n",
    "plt.grid()\n",
    "\n",
    "plt.subplot(122)\n",
    "plt.quiver(x[0],x[1],color='r',angles='xy', scale_units='xy', scale=1)\n",
    "plt.quiver(y2[0],y2[1],color='g',angles='xy', scale_units='xy', scale=1)\n",
    "plt.legend(('Before','After'))\n",
    "plt.axis('square')\n",
    "plt.xlim(-1,1)\n",
    "plt.ylim(-1,1)\n",
    "plt.title(' Antisymmetric ' )\n",
    "plt.grid()\n",
    "plt.show()"
   ]
  },
  {
   "cell_type": "markdown",
   "metadata": {},
   "source": [
    "## And now the Earth Science application \n",
    "\n",
    "After the Landers earthquake 1992 (M7.3) the following deformations were measured 80km south of the earthquake: e11=-0.26x10-6, e12=-0.69x10-6, e22=0.92x10-6. Indices 1 and 2 correspond to East and North, respectively. \n",
    "\n",
    "Let us assume a road stretch of 1km is oriented in N (or E) direction before the earthquake. How long is that road after the earthquake? Does it point in another direction?  \n",
    "\n",
    "Remember the action of the strain tensor on a vector results in the \"differential vector\" due to deformation (see slides). \n",
    "\n",
    "Remember also the properties of the scalar product of two vectors (in Python x@y). \n",
    "\n",
    "<img src=\"https://upload.wikimedia.org/wikipedia/commons/thumb/7/76/Inner-product-angle.svg/1920px-Inner-product-angle.svg.png\" style=\"width:200px\" />\n",
    "\n",
    "\n",
    "\n",
    "Note that the length of a vector x can be calculated with $np.linalg.norm(x)$. "
   ]
  },
  {
   "cell_type": "code",
   "execution_count": null,
   "metadata": {},
   "outputs": [],
   "source": [
    "# Strain effects\n",
    "\n",
    "# Initialize strain tensor\n",
    "e11 = -0.26e-6\n",
    "e12 = -0.69e-6\n",
    "e22 =  0.92e-6\n",
    "\n",
    "# Initialize strain tensor as ndarray with zeros\n",
    "e = np.zeros((2,2))\n",
    "x = np.zeros(2)\n",
    "\n",
    "# Initialize strain tensor with physical values\n",
    "e[0,0] = \n",
    "e[0,1] =\n",
    "e[1,0] = \n",
    "e[1,1] = \n",
    "print(' Strain: ', e)\n",
    "\n",
    "# Initialize \"road\" vector\n",
    "x[0] = \n",
    "x[1] = \n",
    "print(' Road vector (before): ', x)\n",
    "\n",
    "\n",
    "# Calculate road vector after the earthquake (as matrix-vector operation)\n",
    "x_after = \n",
    "print(' Road vector (after): ', x_after)\n",
    "\n",
    "# Calculate the length change in m (use np.linalg.norm)\n",
    "Delta_x = \n",
    "print(' Length change: ',Delta_x,'m')\n",
    "\n",
    "# Calculate the angular change (see definition scalar product)\n",
    "angle = \n",
    "# convert to deg\n",
    "angle = \n",
    "\n",
    "print(' Angular change:',angle,'deg')\n"
   ]
  }
 ],
 "metadata": {
  "anaconda-cloud": {},
  "kernelspec": {
   "display_name": "Python 3",
   "language": "python",
   "name": "python3"
  },
  "language_info": {
   "codemirror_mode": {
    "name": "ipython",
    "version": 3
   },
   "file_extension": ".py",
   "mimetype": "text/x-python",
   "name": "python",
   "nbconvert_exporter": "python",
   "pygments_lexer": "ipython3",
   "version": "3.8.3"
  }
 },
 "nbformat": 4,
 "nbformat_minor": 1
}
