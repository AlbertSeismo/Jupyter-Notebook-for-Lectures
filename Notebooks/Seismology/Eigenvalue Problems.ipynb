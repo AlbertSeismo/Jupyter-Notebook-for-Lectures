{
 "cells": [
  {
   "cell_type": "markdown",
   "metadata": {},
   "source": [
    "## Practical intro to eigenvalue problems"
   ]
  },
  {
   "cell_type": "markdown",
   "metadata": {},
   "source": [
    "\n",
    "Let us assume we have a 2 x 2 stress tensor given:\n",
    "\n",
    "$$\n",
    "\\sigma = \n",
    "\\left( \\begin{array}{rrr}\n",
    "-40 & -10  \\\\                                              \n",
    "-10 & -60  \\\\                                             \n",
    "\\end{array}\\right) MPa\n",
    "$$ \n",
    "\n",
    "(From Shearer, Introduction to seismology)\n",
    "\n",
    "We want to find the principle axes, which corresponds to an eigenvalue problem. For any stress tensor, we can find directions ${\\bf n}$ such that there are no shear stresses across the plane normal to ${\\bf n}$.\n",
    "\n",
    "Mathematically,\n",
    "\n",
    "$$\n",
    "{\\bf t}({\\bf n}) = \\lambda {\\bf n}\n",
    "$$\n",
    "\n",
    "which means\n",
    "\n",
    "$$\n",
    "{\\bf \\sigma}{\\bf n} = \\lambda {\\bf n}\n",
    "$$\n",
    "\n",
    "or \n",
    "\n",
    "$$\n",
    "({\\bf \\sigma} - \\lambda {\\bf I}) = 0\n",
    "$$\n",
    "\n",
    "This has solutions only if\n",
    "\n",
    "$$\n",
    "\\text{det}({\\bf \\sigma} - \\lambda {\\bf I}) = 0\n",
    "$$\n",
    "\n",
    "We solve this using functions that return the eigenvalues and the eigenvectors.\n",
    "\n",
    "### Exercise\n",
    "\n",
    "Assume that the horizontal components of the 2D stress tensor are\n",
    "\n",
    "$\n",
    "\\sigma = \\begin{pmatrix}\n",
    " -30 & -20  \\\\\n",
    " -20 & -40  \\\\\n",
    "\\end{pmatrix} MPa\n",
    "$\n",
    "\n",
    "Solve the following problems using Python:\n",
    "\n",
    "* Compute the normal and shear stresses on afault that strikes 10$\\deg$ east of north\n",
    "* Compute the prinzipalstresses (in degrees of east of north) of th maximum and minimum compressional stress axes\n",
    "\n",
    "#### Expert\n",
    "\n",
    "* Calculate the stress tensor in the principal coordinate system\n",
    "\n",
    "$\n",
    "\\sigma^r = {\\bf N}^T \\sigma {\\bf N} \n",
    "$\n",
    "where ${\\bf N}$ is the matrix of eigenvectors\n",
    "\n",
    "* Calculate the mean stress $\\sigma_m = 1/2 \\operatorname{Trace}({\\sigma^r})$\n",
    "* Calculate the hydrostatic and the deviatoric stress tensors from definition (see slides)\n"
   ]
  },
  {
   "cell_type": "code",
   "execution_count": 25,
   "metadata": {},
   "outputs": [],
   "source": [
    "# Imports\n",
    "import matplotlib.pyplot as plt\n",
    "import numpy as np\n",
    "from numpy import linalg as la"
   ]
  },
  {
   "cell_type": "code",
   "execution_count": 26,
   "metadata": {},
   "outputs": [
    {
     "name": "stdout",
     "output_type": "stream",
     "text": [
      " Stress tensor \n",
      "[[-40. -10.]\n",
      " [-10. -60.]]\n",
      "Eigenvalues\n",
      " 1 :  -35.85786437626905\n",
      " 2 :  -64.14213562373095\n",
      "Eigenvectors\n",
      " 1 :  [ 0.92387953 -0.38268343]\n",
      " 2 :  [0.38268343 0.92387953]\n"
     ]
    }
   ],
   "source": [
    "# initialize 2D tensor [Mpa]\n",
    "s = np.zeros((2,2))\n",
    "s[0,0] = -40\n",
    "s[1,1] = -60\n",
    "s[0,1] = -10\n",
    "s[1,0] = -10\n",
    "\n",
    "print(' Stress tensor ')\n",
    "print(s)\n",
    "\n",
    "w,v = la.eig(s)\n",
    "\n",
    "# Eigenvalues:\n",
    "print('Eigenvalues')\n",
    "print(' 1 : ',w[0])\n",
    "print(' 2 : ',w[1])\n",
    "\n",
    "# Eigenvectors:\n",
    "print('Eigenvectors')\n",
    "print(' 1 : ',v[:,0])\n",
    "print(' 2 : ',v[:,1])\n"
   ]
  },
  {
   "cell_type": "code",
   "execution_count": 27,
   "metadata": {},
   "outputs": [
    {
     "data": {
      "image/png": "[encoded data removed]",
      "text/plain": [
       "<Figure size 432x288 with 1 Axes>"
      ]
     },
     "metadata": {
      "needs_background": "light"
     },
     "output_type": "display_data"
    }
   ],
   "source": [
    "# Plot normalized eigenvectors  \n",
    "plt.quiver(v[0,0], v[1,0], color=['r'],scale=4)\n",
    "plt.quiver(v[0,1], v[1,1], color=['b'],scale=4)\n",
    "plt.xlabel('x')\n",
    "plt.ylabel('y')\n",
    "plt.title('Eigenvectors ')\n",
    "plt.show()"
   ]
  },
  {
   "cell_type": "code",
   "execution_count": 28,
   "metadata": {},
   "outputs": [
    {
     "name": "stdout",
     "output_type": "stream",
     "text": [
      "0.0\n"
     ]
    }
   ],
   "source": [
    "# Show that eigenvectors are orthogonal\n",
    "print(np.dot(v[0,:], v[1,:]))"
   ]
  },
  {
   "cell_type": "code",
   "execution_count": 29,
   "metadata": {},
   "outputs": [
    {
     "data": {
      "image/png": "[encoded data removed]",
      "text/plain": [
       "<Figure size 432x288 with 1 Axes>"
      ]
     },
     "metadata": {
      "needs_background": "light"
     },
     "output_type": "display_data"
    }
   ],
   "source": [
    "# Plot vectors weighted by eigenvalues\n",
    "\n",
    "# scale with eigenvalues\n",
    "v[:,0] = w[0] * v[:,0] \n",
    "v[:,1] = w[1] * v[:,1] \n",
    "\n",
    "# normalize\n",
    "v[:,0] = v[:,0]/np.sqrt(v[0,0]**2 + v[1,0])\n",
    "v[:,1] = v[:,1]/np.sqrt(v[0,1]**2 + v[1,1])\n",
    "\n",
    "plt.quiver(v[0,0], v[1,0], color=['r'],scale=10)\n",
    "plt.quiver(v[0,1], v[1,1], color=['b'],scale=10)\n",
    "\n",
    "plt.title('Principal Stress components (scaled)')\n",
    "\n",
    "plt.xlabel('x')\n",
    "plt.ylabel('y')\n",
    "plt.show()"
   ]
  },
  {
   "cell_type": "code",
   "execution_count": null,
   "metadata": {},
   "outputs": [],
   "source": []
  },
  {
   "cell_type": "code",
   "execution_count": null,
   "metadata": {},
   "outputs": [],
   "source": []
  }
 ],
 "metadata": {
  "kernelspec": {
   "display_name": "Python 3",
   "language": "python",
   "name": "python3"
  },
  "language_info": {
   "codemirror_mode": {
    "name": "ipython",
    "version": 3
   },
   "file_extension": ".py",
   "mimetype": "text/x-python",
   "name": "python",
   "nbconvert_exporter": "python",
   "pygments_lexer": "ipython3",
   "version": "3.7.8"
  }
 },
 "nbformat": 4,
 "nbformat_minor": 2
}
