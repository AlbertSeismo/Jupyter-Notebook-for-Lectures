{
 "cells": [
  {
   "cell_type": "markdown",
   "metadata": {},
   "source": [
    "# Refraction Seismic Solution"
   ]
  },
  {
   "cell_type": "markdown",
   "metadata": {},
   "source": [
    "The following solution is based on the \"hammer\" seismic experiment in front of the Pinakothek in Munich, Germany. "
   ]
  },
  {
   "cell_type": "code",
   "execution_count": 1,
   "metadata": {
    "collapsed": true
   },
   "outputs": [],
   "source": [
    "import numpy as np\n",
    "import matplotlib.pyplot as plt"
   ]
  },
  {
   "cell_type": "code",
   "execution_count": 2,
   "metadata": {},
   "outputs": [
    {
     "data": {
      "image/png": "[encoded data removed]",
      "text/plain": [
       "<Figure size 432x288 with 1 Axes>"
      ]
     },
     "metadata": {},
     "output_type": "display_data"
    }
   ],
   "source": [
    "# Extracted Travel time curves and intercept time\n",
    "v1 = 333.;\n",
    "v2= 625;\n",
    "v3= 2500;\n",
    "ti2= .008;\n",
    "ti3= .025;\n",
    "\n",
    "# Initialize time axis\n",
    "t = np.linspace(0,0.1,100)\n",
    "\n",
    "# initialize space\n",
    "x = np.linspace(0,36,100)\n",
    "\n",
    "# Initialize travel time curves\n",
    "tdir  = x/v1\n",
    "trefr1 = ti2 + x/v2\n",
    "trefr2 = ti3 + x/v3\n",
    "\n",
    "# Plot travel time curves\n",
    "plt.plot(x,tdir,x,trefr1,x,trefr2)\n",
    "plt.xlabel('x(m)')\n",
    "plt.ylabel('Time (s)')\n",
    "plt.title(' Hammer seismics ')\n",
    "plt.legend(('Direct', 'Refraction 1', ' Refraction 2'))\n",
    "plt.show()\n",
    "\n",
    "\n"
   ]
  },
  {
   "cell_type": "code",
   "execution_count": 3,
   "metadata": {},
   "outputs": [
    {
     "name": "stdout",
     "output_type": "stream",
     "text": [
      "----------------------------------------\n",
      " Inversion Results: \n",
      " $v_1$ =  333.0 m/s\n",
      " $v_2$ =  625 m/s\n",
      " $v_3$ =  2500 m/s\n",
      " $h_1$ =  1.57401933158 m\n",
      " $h_2$ =  5.04477689206 m\n",
      "----------------------------------------\n"
     ]
    }
   ],
   "source": [
    "# Solution to inverse problem\n",
    "\n",
    "\n",
    "# we need \n",
    "i12 = np.arcsin(v1/v2)\n",
    "i13 = np.arcsin(v1/v3)\n",
    "i23 = np.arcsin(v2/v3)\n",
    "\n",
    "# Calculate h1\n",
    "h1 = v1*ti2/(2* np.cos(i12))\n",
    "\n",
    "# we need\n",
    "tstar= ti3 - 2*h1*np.cos(i13)/v1\n",
    "\n",
    "# Calculate h2 \n",
    "h2 = v2*tstar/(2*np.cos(i23))\n",
    "\n",
    "# Final Result\n",
    "print('----------------------------------------')\n",
    "print(' Inversion Results: ')\n",
    "print(' $v_1$ = ',v1, 'm/s')\n",
    "print(' $v_2$ = ',v2, 'm/s')\n",
    "print(' $v_3$ = ',v3, 'm/s')\n",
    "print(' $h_1$ = ',h1, 'm')\n",
    "print(' $h_2$ = ',h2, 'm')\n",
    "print('----------------------------------------')\n"
   ]
  },
  {
   "cell_type": "code",
   "execution_count": null,
   "metadata": {
    "collapsed": true
   },
   "outputs": [],
   "source": []
  }
 ],
 "metadata": {
  "kernelspec": {
   "display_name": "Python 3",
   "language": "python",
   "name": "python3"
  },
  "language_info": {
   "codemirror_mode": {
    "name": "ipython",
    "version": 3
   },
   "file_extension": ".py",
   "mimetype": "text/x-python",
   "name": "python",
   "nbconvert_exporter": "python",
   "pygments_lexer": "ipython3",
   "version": "3.6.3"
  }
 },
 "nbformat": 4,
 "nbformat_minor": 2
}
