{
 "cells": [
  {
   "cell_type": "markdown",
   "metadata": {},
   "source": [
    "# Spectrum -  a simple tutorial"
   ]
  },
  {
   "cell_type": "markdown",
   "metadata": {},
   "source": [
    "This tutorial shall provide a simple practical introduction to amplitude spectra"
   ]
  },
  {
   "cell_type": "code",
   "execution_count": null,
   "metadata": {
    "collapsed": true
   },
   "outputs": [],
   "source": [
    "# Import libraries\n",
    "import numpy as np\n",
    "import matplotlib\n",
    "import matplotlib.pyplot as plt"
   ]
  },
  {
   "cell_type": "markdown",
   "metadata": {},
   "source": [
    "A spectrum characterizes the \"spectral content\" of a function, i.e. which frequency contributes linearly to the function. "
   ]
  },
  {
   "cell_type": "markdown",
   "metadata": {},
   "source": [
    "### Example 1: Gauss function \n",
    "\n",
    "Exercise: Alter the frequency content of the Gaussian signal by varying f0 (e.g., 10, 20, 50, 100 Hz) and see the effect on the amplitude spectrum. What happens with the spectrum if you change dt?"
   ]
  },
  {
   "cell_type": "code",
   "execution_count": null,
   "metadata": {
    "scrolled": true
   },
   "outputs": [],
   "source": [
    "# Let us generate a Gauss function in time (actually the first derivative of it)\n",
    "nt = 10000   # number of samples\n",
    "dt = 0.001      # the sampling interval in s\n",
    "f0   = 25.     # dominant frequency of the source (Hz)\n",
    "t0   = 4. / f0 # source time shift from origin\n",
    "\n",
    "# Initialize the function\n",
    "f  = np.zeros(nt + 1)\n",
    "t = np.linspace(0 * dt, nt * dt, nt)\n",
    "# 1st derivative of a Gaussian\n",
    "f  = -8. * (t - t0) * f0  * (np.exp(-1.0 * (4*f0)**2 * (t - t0) ** 2))\n",
    "\n",
    "# Let us plot it\n",
    "plt.plot(t[:np.int(2*t0/dt)],f[:np.int(2*t0/dt)])\n",
    "plt.xlabel('Time (s)')\n",
    "plt.ylabel('Amplitude')\n",
    "plt.title(' Gauss function ')\n",
    "plt.show()"
   ]
  },
  {
   "cell_type": "markdown",
   "metadata": {},
   "source": [
    "### Let us calculate and plot the spectrum"
   ]
  },
  {
   "cell_type": "code",
   "execution_count": null,
   "metadata": {},
   "outputs": [],
   "source": [
    "# Calculate and plot spectrum\n",
    "spec = np.fft.fft(f) # source time function in frequency domain\n",
    "freq = np.fft.fftfreq(spec.size, d = dt ) # time domain to frequency domain\n",
    "\n",
    "plt.plot(np.abs(freq), np.abs(spec)) # plot frequency and amplitude\n",
    "plt.title('Spectrum')\n",
    "plt.xlabel('Frequency (Hz)')\n",
    "plt.ylabel('Amplitude')\n",
    "plt.show()\n"
   ]
  },
  {
   "cell_type": "markdown",
   "metadata": {},
   "source": [
    "### Example 2: Time series and amplitude spectrum for various functions\n",
    "\n",
    "Exercise: Choose the function of your liking, discuss the results!"
   ]
  },
  {
   "cell_type": "code",
   "execution_count": null,
   "metadata": {},
   "outputs": [],
   "source": [
    "# Initialitze functions in time, uncomment the one you want to use!\n",
    "\n",
    "# Time and sampling interval\n",
    "nt = 1000   # number of samples\n",
    "dt = 0.001      # the sampling interval in s\n",
    "t = np.linspace(0, nt * dt, nt) # Initialize time axis\n",
    "\n",
    "#####################################################\n",
    "\n",
    "# Case 1: Delta function\n",
    "# Try to put in words what this means!!!\n",
    "f = t * 0.\n",
    "f[100] = 1.\n",
    "\n",
    "# Case 2: Sin function\n",
    "#T = 100*dt    # period\n",
    "#f = np.sin (2*np.pi/T*t+10)\n",
    "\n",
    "# Case 3: Signal with three different harmonic frequencies\n",
    "# Check whether the frequencies are correct!\n",
    "#T1 = 10*dt    # period\n",
    "#T2 = 40*dt    # period\n",
    "#T3 = 100*dt    # period\n",
    "#f = np.sin(2*np.pi/T1*t) + np.cos(2*np.pi/T2*t)  + np.sin(2*np.pi/T3*t) \n",
    "\n",
    "# Case 4: random function\n",
    "# Why the spike of the spectrum at the left?\n",
    "#f = np.random.rand(nt)\n",
    "#f[0] = 0.\n",
    "#f[nt-1] = 0.\n",
    "\n",
    "# Case 5: Gaussian function (bell shape)\n",
    "# Change the half width a (smaller, larger), what happens to the spectrum?\n",
    "#a = 100*dt\n",
    "#f = np.exp(-1/a**2*t**2)\n",
    "\n",
    "\n",
    "#########################################################\n",
    "\n",
    "# Spectrum\n",
    "spec = np.fft.fft(f) # source time function in frequency domain\n",
    "freq = np.fft.fftfreq(spec.size, d = dt ) # time domain to frequency domain\n",
    "\n",
    "# Plotting\n",
    "\n",
    "plt.subplot(121)\n",
    "plt.plot(t,f)\n",
    "plt.xlabel('Time (s)')\n",
    "plt.ylabel('Amplitude')\n",
    "plt.title('  Function ')\n",
    "\n",
    "plt.subplot(122)\n",
    "plt.plot(np.abs(freq), np.abs(spec)) # plot frequency and amplitude\n",
    "plt.title('Spectrum')\n",
    "plt.xlabel('Frequency (Hz)')\n",
    "plt.show()\n"
   ]
  },
  {
   "cell_type": "code",
   "execution_count": null,
   "metadata": {
    "collapsed": true
   },
   "outputs": [],
   "source": []
  }
 ],
 "metadata": {
  "kernelspec": {
   "display_name": "Python 3",
   "language": "python",
   "name": "python3"
  },
  "language_info": {
   "codemirror_mode": {
    "name": "ipython",
    "version": 3
   },
   "file_extension": ".py",
   "mimetype": "text/x-python",
   "name": "python",
   "nbconvert_exporter": "python",
   "pygments_lexer": "ipython3",
   "version": "3.6.3"
  }
 },
 "nbformat": 4,
 "nbformat_minor": 2
}
